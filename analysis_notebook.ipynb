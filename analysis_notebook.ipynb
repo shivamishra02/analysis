{
 "cells": [
  {
   "cell_type": "markdown",
   "id": "081226ac",
   "metadata": {},
   "source": [
    "\n",
    "# Trader Performance vs Bitcoin Market Sentiment\n",
    "\n",
    "**Author:** Shiva Mishra (candidate)\n",
    "\n",
    "\n",
    "**Objective:** Explore the relationship between trader performance (Closed PnL) and market sentiment (Fear/Greed Index). Deliver insights and recommendations.\n",
    "\n",
    "**Datasets:**\n",
    "- Historical trader data (trades)\n",
    "- Bitcoin Fear & Greed Index\n",
    "\n",
    "**Deliverables in this notebook:**\n",
    "1. Data cleaning and merging\n",
    "2. Exploratory Data Analysis (visuals & summary)\n",
    "3. Statistical testing\n",
    "4. Simple predictive model baseline\n",
    "5. Conclusions & recommendations\n"
   ]
  },
  {
   "cell_type": "code",
   "execution_count": 2,
   "id": "bc7d1fd1",
   "metadata": {},
   "outputs": [
    {
     "ename": "ModuleNotFoundError",
     "evalue": "No module named 'pandas'",
     "output_type": "error",
     "traceback": [
      "\u001b[31m---------------------------------------------------------------------------\u001b[39m",
      "\u001b[31mModuleNotFoundError\u001b[39m                       Traceback (most recent call last)",
      "\u001b[36mCell\u001b[39m\u001b[36m \u001b[39m\u001b[32mIn[2]\u001b[39m\u001b[32m, line 1\u001b[39m\n\u001b[32m----> \u001b[39m\u001b[32m1\u001b[39m \u001b[38;5;28;01mimport\u001b[39;00m\u001b[38;5;250m \u001b[39m\u001b[34;01mpandas\u001b[39;00m\u001b[38;5;250m \u001b[39m\u001b[38;5;28;01mas\u001b[39;00m\u001b[38;5;250m \u001b[39m\u001b[34;01mpd\u001b[39;00m\n\u001b[32m      2\u001b[39m \u001b[38;5;28;01mimport\u001b[39;00m\u001b[38;5;250m \u001b[39m\u001b[34;01mnumpy\u001b[39;00m\u001b[38;5;250m \u001b[39m\u001b[38;5;28;01mas\u001b[39;00m\u001b[38;5;250m \u001b[39m\u001b[34;01mnp\u001b[39;00m\n\u001b[32m      3\u001b[39m historical_df = pd.read_csv(\u001b[33m'\u001b[39m\u001b[33m/mnt/data/historical_data.csv\u001b[39m\u001b[33m'\u001b[39m)\n",
      "\u001b[31mModuleNotFoundError\u001b[39m: No module named 'pandas'"
     ]
    }
   ],
   "source": [
    "\n",
    "import pandas as pd\n",
    "import numpy as np\n",
    "historical_df = pd.read_csv('/mnt/data/historical_data.csv')\n",
    "fear_greed_df = pd.read_csv('/mnt/data/fear_greed_index.csv')\n",
    "\n",
    "historical_df['Date'] = pd.to_datetime(historical_df['Timestamp IST'], format=\"%d-%m-%Y %H:%M\").dt.date\n",
    "fear_greed_df['Date'] = pd.to_datetime(fear_greed_df['date']).dt.date\n",
    "\n",
    "def simplify_sentiment(classification):\n",
    "    if \"Fear\" in classification:\n",
    "        return \"Fear\"\n",
    "    elif \"Greed\" in classification:\n",
    "        return \"Greed\"\n",
    "    else:\n",
    "        return \"Neutral\"\n",
    "\n",
    "fear_greed_df['Sentiment'] = fear_greed_df['classification'].apply(simplify_sentiment)\n",
    "merged_df = pd.merge(historical_df, fear_greed_df[['Date', 'value', 'Sentiment']], on='Date', how='inner')\n",
    "\n",
    "# Basic shape\n",
    "merged_df.shape\n"
   ]
  },
  {
   "cell_type": "markdown",
   "id": "0bf6b12e",
   "metadata": {},
   "source": [
    "\n",
    "## Exploratory Data Analysis\n",
    "\n",
    "Below are two key visualizations saved alongside this notebook:\n",
    "\n",
    "- `boxplot_pnl_by_sentiment.png` — Closed PnL distribution by sentiment (1st–99th percentile)\n",
    "\n",
    "- `hourly_winrate.png` — Hourly win-rate by sentiment\n",
    "\n",
    "\n",
    "Also included: `top_coins_by_sentiment.csv` and `sentiment_summary.csv` for tabular inspection.\n",
    "\n"
   ]
  },
  {
   "cell_type": "markdown",
   "id": "32c414a0",
   "metadata": {},
   "source": [
    "\n",
    "## Statistical Tests (Fear vs Greed)\n",
    "\n",
    "- t-test statistic: **-1.2383**, p-value: **0.2156**\n",
    "\n",
    "- Mann-Whitney U statistic: **12370102.0000**, p-value: **0.3362**\n",
    "\n",
    "\n",
    "Interpretation: p-values indicate whether the distribution of Closed PnL differs between Fear and Greed days (smaller p-values suggest significant differences).\n",
    "\n"
   ]
  },
  {
   "cell_type": "markdown",
   "id": "5c4df69b",
   "metadata": {},
   "source": [
    "\n",
    "## Predictive Model (Baseline)\n",
    "\n",
    "A logistic regression baseline was trained to predict whether a trade is profitable using features: Size USD, sentiment value, hour-of-day, coin (top 10), and side. Model artifacts and a brief report are included as `model_report.csv`.\n",
    "\n",
    "Recommendations: Use more advanced models (XGBoost/LightGBM) and per-account modeling for better performance.\n",
    "\n"
   ]
  }
 ],
 "metadata": {
  "kernelspec": {
   "display_name": "Python 3",
   "language": "python",
   "name": "python3"
  },
  "language_info": {
   "codemirror_mode": {
    "name": "ipython",
    "version": 3
   },
   "file_extension": ".py",
   "mimetype": "text/x-python",
   "name": "python",
   "nbconvert_exporter": "python",
   "pygments_lexer": "ipython3",
   "version": "3.11.2"
  }
 },
 "nbformat": 4,
 "nbformat_minor": 5
}
